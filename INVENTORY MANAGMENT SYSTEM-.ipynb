{
  "nbformat": 4,
  "nbformat_minor": 0,
  "metadata": {
    "colab": {
      "name": "INVENTORY MANAGMENT SYSTEM.ipynb",
      "provenance": [],
      "toc_visible": true
    },
    "kernelspec": {
      "display_name": "Python 3",
      "name": "python3"
    },
    "language_info": {
      "name": "python"
    }
  },
  "cells": [
    {
      "cell_type": "code",
      "metadata": {
        "id": "viCHlWZejJNG"
      },
      "source": [
        "items = { 1001: { \"name\": \"Butterfly top\" , \"brand\" : \"max\" , \"category\" : \"clothings\" , \"prize\" : 299 , \"return policy\" : \"Return within 2days\" , \"Quantity available\" : 12},\n",
        "          1002: { \"name\": \"Amul Cheese\" ,    \"brand\" : \"Amul\" , \"category\" : \"dairy\" , \"prize\" : 104 , \"return policy\" : \"Not available\" , \"Quantity available\" : 40 },\n",
        "          1003: { \"name\": \"Uni-Bic choco\" ,  \"brand\" : \"Uni-Bic\" , \"category\" : \"food\" , \"prize\" : 30 , \"return policy\" : \"Not available\" , \"Quantity available\" : 50 },\n",
        "          1004: { \"name\": \"Lime Comfort\" ,   \"brand\" : \"Comfort\" , \"category\" : \"laundary\" , \"prize\" : 120 , \"return policy\" : \"Not available\" , \"Quantity available\" : 65},\n",
        "          1005: { \"name\": \"Flare Jeans\" , \"brand\" : \"Pantaloons\" , \"category\" : \"clothings\" , \"prize\" : 999 , \"return policy\" : \"Return within 2days\" ,\"Quantity available\" : 20 },\n",
        "          1006: { \"name\": \"Harpic bathroom cleaner\" , \"brand\" : \"laundary\" , \"category\" : \"laundary\" , \"prize\" : 156 , \"return policy\" :\"Not available\" , \"Quantity available\" : 80 },\n",
        "          1007: { \"name\": \"T-top\" , \"brand\" : \"max\" , \"category\" : \"clothings\" , \"prize\" : 249 , \"return policy\" : \"Return within 2days\" , \"Quantity available\" : 55 },\n",
        "          1008: { \"name\": \"Sunshine Kurti\" , \"brand\" : \"Selina\" , \"category\" : \"clothings\" , \"prize\" : 599 , \"return policy\" : \"Return within 5days\" , \"Quantity available\" : 15 },\n",
        "          1009: { \"name\": \"Denim jacket\" , \"brand\" : \"max\" , \"category\" : \"clothings\" , \"prize\" : 1049 , \"return policy\" : \"Return within 2days\" , \"Quantity available\" : 25 },\n",
        "          1010: { \"name\": \"Flower panties(5)\" , \"brand\" : \"max\" , \"category\" : \"clothings\" , \"prize\" : 345 , \"return policy\" : \"Return within 2days\" , \"Quantity available\" : 12 },\n",
        "          1011: { \"name\": \"Mishty Dohi\" , \"brand\" : \"Mother Diary\" , \"category\" : \"dairy\" , \"prize\" : 59 , \"return policy\" : \"Not available\" , \"Quantity available\" : 45},\n",
        "          1012: { \"name\": \"Full Cream Milk\" , \"brand\" : \"Amul\" , \"category\" : \"dairy\" , \"prize\" : 45 , \"return policy\" : \"Not available\" , \"Quantity available\" : 60},\n",
        "          1013: { \"name\": \"Ultimate Dahi\" , \"brand\" : \"Mother Diary\" , \"category\" : \"dairy\" , \"prize\" : 29 , \"return policy\" : \"Not available\" , \"Quantity available\" : 28 },\n",
        "          1014: { \"name\": \"Fruit yogurt\" , \"brand\" : \"Amul\" , \"category\" :  \"dairy\" , \"prize\" : 40 , \"return policy\" : \"Not available\" ,\"Quantity available\" : 15 },\n",
        "          1015: { \"name\": \"Amarkhand\" , \"brand\" : \"Amul\" , \"category\" :  \"dairy\" , \"prize\" : 60 , \"return policy\" : \"Not available\" , \"Quantity available\" : 35 },\n",
        "          1016: { \"name\": \"Britania Rusk\" , \"brand\" : \"Britania\" , \"category\" : \"food\" , \"prize\" : 33 , \"return policy\" : \"Not available\" , \"Quantity available\" : 65 },\n",
        "          1017: { \"name\": \"Britania tutifuti Cake\" , \"brand\" : \"Britania\" , \"category\" : \"food\" , \"prize\" : 12 , \"return policy\" : \"Not available\" , \"Quantity available\" : 58},\n",
        "          1018: { \"name\": \"Oreo chocolate\" , \"brand\" : \"Oreo\" , \"category\" : \"food\" , \"prize\" : 30 , \"return policy\" : \"Not available\" , \"Quantity available\" : 50 },\n",
        "          1019: { \"name\": \"Oreo Stawberry\" , \"brand\" : \"Oreo\" , \"category\" : \"food\" , \"prize\" : 30 , \"return policy\" : \"Not available\" , \"Quantity available\" : 50 },\n",
        "          1020: { \"name\": \"Parle G\" , \"brand\" : \"Parle\" , \"category\" : \"food\" , \"prize\" : 10 , \"return policy\" : \"Not available\" , \"Quantity available\" : 90 },\n",
        "          1021: { \"name\": \"Chocos- stars\" , \"brand\" : \"Chocos\" , \"category\" : \"food\" , \"prize\" : 15 , \"return policy\" : \"Not available\" , \"Quantity available\" : 25 },\n",
        "          1022: { \"name\": \"MAXX macho chilli\" , \"brand\" : \"Lays\" , \"category\" : \"food\" , \"prize\" : 30 , \"return policy\" : \"Not available\" , \"Quantity available\" : 100 },\n",
        "          1023: { \"name\": \"MAXX siziling\" , \"brand\" : \"Lays\" , \"category\" : \"food\" , \"prize\" : 30 , \"return policy\" : \"Not available\" , \"Quantity available\" : 100 },\n",
        "          1024: { \"name\": \"Cream and onion\" , \"brand\" : \"Lays\" , \"category\" : \"food\" , \"prize\" : 30 , \"return policy\" : \"Not available\" , \"Quantity available\" : 20 },\n",
        "          1025: { \"name\": \"Lizol- lime\" ,   \"brand\" : \"Lizol\" , \"category\" : \"laundary\" , \"prize\" : 160 , \"return policy\" : \"Not available\" , \"Quantity available\" : 75},\n",
        "          1026: { \"name\": \"Lizol- rose\" ,   \"brand\" : \"Lizol\"  , \"category\" : \"laundary\" , \"prize\" : 165 , \"return policy\" : \"Not available\" , \"Quantity available\" : 75},\n",
        "          1027: { \"name\": \"Lizol- sandal\" ,   \"brand\" : \"Lizol\"  , \"category\" : \"laundary\" , \"prize\" : 170 , \"return policy\" : \"Not available\" , \"Quantity available\" : 72},\n",
        "          1028: { \"name\": \"Domex-ultra clean\" ,   \"brand\" : \"Domex\" , \"category\" : \"laundary\" , \"prize\" : 155 , \"return policy\" : \"Not available\" , \"Quantity available\" : 64},\n",
        "          1029: { \"name\": \"Ariel \" ,   \"brand\" : \"Ariel\" , \"category\" : \"laundary\" , \"prize\" : 85 , \"return policy\" : \"Not available\" , \"Quantity available\" : 82},\n",
        "          1030: { \"name\": \"Tide-30\" ,   \"brand\" : \"Tide\" , \"category\" : \"laundary\" , \"prize\" : 95 , \"return policy\" : \"Not available\" , \"Quantity available\" : 94}\n",
        "}"
      ],
      "execution_count": null,
      "outputs": []
    },
    {
      "cell_type": "code",
      "metadata": {
        "id": "3d4-DsOnjEkz"
      },
      "source": [
        "import json"
      ],
      "execution_count": null,
      "outputs": []
    },
    {
      "cell_type": "code",
      "metadata": {
        "id": "7TZif35X-9gF"
      },
      "source": [
        " js =json.dumps(items)"
      ],
      "execution_count": null,
      "outputs": []
    },
    {
      "cell_type": "code",
      "metadata": {
        "id": "7VO32B8DfN7c"
      },
      "source": [
        "fd =open(\"product_list.json\" , 'w')\n",
        "\n",
        "fd.write(js)\n",
        "\n",
        "fd.close()"
      ],
      "execution_count": null,
      "outputs": []
    },
    {
      "cell_type": "code",
      "metadata": {
        "id": "LQtFpLmnIjIK"
      },
      "source": [
        "fd =open(\"product_list.json\" , 'r')\n",
        "\n",
        "txt = fd.read()\n",
        "\n",
        "fd.close()"
      ],
      "execution_count": null,
      "outputs": []
    },
    {
      "cell_type": "code",
      "metadata": {
        "id": "WFSbaGGUFeIm"
      },
      "source": [
        "items = json.loads(txt)"
      ],
      "execution_count": null,
      "outputs": []
    },
    {
      "cell_type": "code",
      "metadata": {
        "id": "kzY5exPIVZ1k"
      },
      "source": [
        "import time"
      ],
      "execution_count": null,
      "outputs": []
    },
    {
      "cell_type": "code",
      "metadata": {
        "id": "oFJJbkOSB1bF"
      },
      "source": [
        "uname = input(\"Enter your name: \")\n",
        "phn = int(input(\"Enter your mobile number: \"))\n",
        "no = int(input(\"Enter the number of items to be brought: \"))\n"
      ],
      "execution_count": null,
      "outputs": []
    },
    {
      "cell_type": "code",
      "metadata": {
        "id": "LE5NWHIpGduT"
      },
      "source": [
        "print(\"CUSTOMER NAME: \",uname)\n",
        "print(\"PHONE NUMBER: \",phn)\n",
        "print(\"DATE AND TIME: \",time.ctime)\n",
        "print(\" \")\n",
        "print(\"PRODUCTS PURCHASED\")\n",
        "amt = 0\n",
        "for i in range(no):\n",
        "  pid = input(\"Enter the product id : \")\n",
        "  pqt = int(input(\"Enter the quantity : \"))\n",
        "  for i in items.keys():\n",
        "     if pid == i:\n",
        "       print(\"NAME:\" ,items[pid][\"name\"])  \n",
        "       print(\"Brand:\" ,items[pid][\"brand\"])\n",
        "       print(\"Prize:\" ,items[pid][\"prize\"])\n",
        "       amt +=  int(items[pid][\"prize\"])*pqt\n",
        "       items[pid][\"Quantity available\"] = int(items[pid][\"Quantity available\"]) - pqt\n",
        "       print(\"RETURN POLICY:\",items[pid][\"return policy\"])\n",
        "       print(\"----------------------------------\")\n",
        "print(\"TOTAL AMOUNT:\",amt)\n",
        "print(\"----------------------------------\")\n",
        "print(\"THANK YOU FOR VISITING!!!\")\n",
        "\n",
        "\n"
      ],
      "execution_count": null,
      "outputs": []
    },
    {
      "cell_type": "code",
      "metadata": {
        "id": "59y8hHjU1gIz"
      },
      "source": [
        "js = json.dumps(items)"
      ],
      "execution_count": null,
      "outputs": []
    },
    {
      "cell_type": "code",
      "metadata": {
        "id": "X_uq4Ldy1SI3"
      },
      "source": [
        "fd =open(\"product_list.json\" , 'w')\n",
        "\n",
        "fd.write(js)\n",
        "\n",
        "fd.close()"
      ],
      "execution_count": null,
      "outputs": []
    },
    {
      "cell_type": "code",
      "metadata": {
        "id": "Zl34W9xz-2uv"
      },
      "source": [
        "#FOR THE STORE\n",
        "\n",
        "#ADDING ITEMS\n",
        "nums = int(input(\"ENTER THE NUMBER OF PRODUCTS TO BE LOADED: \"))"
      ],
      "execution_count": null,
      "outputs": []
    },
    {
      "cell_type": "code",
      "metadata": {
        "id": "N8mgdpLwBNzs"
      },
      "source": [
        "for i in range(nums):\n",
        "  PID = input(\"Enter the product ID: \")\n",
        "  name = input(\"ENTER THE NAME OF PRODUCT: \")\n",
        "  brand = input(\"ENTER THE BRAND OF PRODUCT: \")\n",
        "  category =input(\"ENTER THE CATEGORY OF THE PRODUCT: \")\n",
        "  prize = input(\"ENTER THE PRIZE OF PRODUCT: \") \n",
        "  policy = input(\"ENTER THE RETURN POLICY: \")\n",
        "  Quantityavailable = input(\"ENTER THE QUANTITY: \")\n",
        "  print(\" \")\n",
        "  items[PID] = {\"name\": name , \"brand\" : brand, \"category\": category, \"prize\":prize , \"return policy\" :policy, \"Quantity available\":Quantityavailable }\n",
        "  "
      ],
      "execution_count": null,
      "outputs": []
    },
    {
      "cell_type": "code",
      "metadata": {
        "id": "CZGz9EEMGqpO"
      },
      "source": [
        "ts = json.dumps(items)"
      ],
      "execution_count": null,
      "outputs": []
    },
    {
      "cell_type": "code",
      "metadata": {
        "id": "GRdCACYcDZj4"
      },
      "source": [
        "fd =open(\"product_list.json\" , 'w')\n",
        "\n",
        "fd.write(ts)\n",
        "\n",
        "fd.close()"
      ],
      "execution_count": null,
      "outputs": []
    },
    {
      "cell_type": "code",
      "metadata": {
        "colab": {
          "base_uri": "https://localhost:8080/"
        },
        "id": "LXsoI-L7lp1f",
        "outputId": "28f45a09-c8aa-47ce-dc2a-ac554152ece9"
      },
      "source": [
        "#FOR DELETING ITEMS \n",
        "\n",
        "NU = int(input(\"ENTER THE NUMBER OF PRODUCTS TO BE DELETED: \"))"
      ],
      "execution_count": null,
      "outputs": [
        {
          "name": "stdout",
          "output_type": "stream",
          "text": [
            "ENTER THE NUMBER OF PRODUCTS TO BE DELETED: 1\n"
          ]
        }
      ]
    },
    {
      "cell_type": "code",
      "metadata": {
        "colab": {
          "base_uri": "https://localhost:8080/"
        },
        "id": "Du-I38z_l__I",
        "outputId": "e8fa85d7-2fbb-4815-95e4-de5382c81775"
      },
      "source": [
        "for i in range(NU):\n",
        "  dt = input(\"ENTER THE ID OF PRODUCT TO BE DELETED: \")\n",
        "  del(items[dt])\n",
        "  print(\" \")"
      ],
      "execution_count": null,
      "outputs": [
        {
          "output_type": "stream",
          "name": "stdout",
          "text": [
            "ENTER THE ID OF PRODUCT TO BE DELETED1245\n",
            " \n"
          ]
        }
      ]
    },
    {
      "cell_type": "code",
      "metadata": {
        "id": "DoOapOJAmrOT"
      },
      "source": [
        "ts = json.dumps(items)"
      ],
      "execution_count": null,
      "outputs": []
    },
    {
      "cell_type": "code",
      "metadata": {
        "id": "emJjuPyOmvK5"
      },
      "source": [
        "fd =open(\"product_list.json\" , 'w')\n",
        "\n",
        "fd.write(ts)\n",
        "\n",
        "fd.close()"
      ],
      "execution_count": null,
      "outputs": []
    }
  ]
}